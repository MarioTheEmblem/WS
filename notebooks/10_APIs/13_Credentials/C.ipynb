{
 "cells": [
  {
   "cell_type": "markdown",
   "id": "66dc9666",
   "metadata": {
    "papermill": {
     "duration": 0.00334,
     "end_time": "2024-04-10T10:54:32.655027",
     "exception": false,
     "start_time": "2024-04-10T10:54:32.651687",
     "status": "completed"
    },
    "tags": []
   },
   "source": [
    "# API Credentials"
   ]
  },
  {
   "cell_type": "markdown",
   "id": "017c2199",
   "metadata": {
    "papermill": {
     "duration": 0.002279,
     "end_time": "2024-04-10T10:54:32.659876",
     "exception": false,
     "start_time": "2024-04-10T10:54:32.657597",
     "status": "completed"
    },
    "tags": []
   },
   "source": [
    "## Design API call"
   ]
  },
  {
   "cell_type": "code",
   "execution_count": null,
   "id": "0093efe8",
   "metadata": {
    "execution": {
     "iopub.execute_input": "2024-04-10T10:54:32.667534Z",
     "iopub.status.busy": "2024-04-10T10:54:32.666984Z",
     "iopub.status.idle": "2024-04-10T10:54:33.623168Z",
     "shell.execute_reply": "2024-04-10T10:54:33.622629Z"
    },
    "papermill": {
     "duration": 0.964131,
     "end_time": "2024-04-10T10:54:33.626225",
     "exception": false,
     "start_time": "2024-04-10T10:54:32.662094",
     "status": "completed"
    },
    "tags": []
   },
   "outputs": [],
   "source": []
  },
  {
   "cell_type": "markdown",
   "id": "2ff2ec97",
   "metadata": {
    "papermill": {
     "duration": 0.005671,
     "end_time": "2024-04-10T10:54:33.637175",
     "exception": false,
     "start_time": "2024-04-10T10:54:33.631504",
     "status": "completed"
    },
    "tags": []
   },
   "source": [
    "## Request another information\n",
    "**Exercise**: Change the value of a parameter in the URL and request other data."
   ]
  },
  {
   "cell_type": "code",
   "execution_count": null,
   "id": "56c2a546",
   "metadata": {
    "execution": {
     "iopub.execute_input": "2024-04-10T10:54:33.647769Z",
     "iopub.status.busy": "2024-04-10T10:54:33.647515Z",
     "iopub.status.idle": "2024-04-10T10:54:33.828395Z",
     "shell.execute_reply": "2024-04-10T10:54:33.827301Z"
    },
    "papermill": {
     "duration": 0.188481,
     "end_time": "2024-04-10T10:54:33.830427",
     "exception": false,
     "start_time": "2024-04-10T10:54:33.641946",
     "status": "completed"
    },
    "tags": []
   },
   "outputs": [],
   "source": []
  },
  {
   "cell_type": "markdown",
   "id": "22c507fc",
   "metadata": {
    "papermill": {
     "duration": 0.005947,
     "end_time": "2024-04-10T10:54:33.844270",
     "exception": false,
     "start_time": "2024-04-10T10:54:33.838323",
     "status": "completed"
    },
    "tags": []
   },
   "source": [
    "## Credentials to request API data\n",
    "\n",
    "**Exercise**: Change the value of a parameter in the URL and request other data."
   ]
  },
  {
   "cell_type": "code",
   "execution_count": null,
   "id": "51ee206c",
   "metadata": {
    "execution": {
     "iopub.execute_input": "2024-04-10T10:54:33.861222Z",
     "iopub.status.busy": "2024-04-10T10:54:33.860760Z",
     "iopub.status.idle": "2024-04-10T10:54:34.771497Z",
     "shell.execute_reply": "2024-04-10T10:54:34.770829Z"
    },
    "papermill": {
     "duration": 0.924167,
     "end_time": "2024-04-10T10:54:34.774276",
     "exception": false,
     "start_time": "2024-04-10T10:54:33.850109",
     "status": "completed"
    },
    "tags": []
   },
   "outputs": [],
   "source": []
  }
 ],
 "metadata": {
  "kernelspec": {
   "display_name": "work",
   "language": "python",
   "name": "python3"
  },
  "language_info": {
   "codemirror_mode": {
    "name": "ipython",
    "version": 3
   },
   "file_extension": ".py",
   "mimetype": "text/x-python",
   "name": "python",
   "nbconvert_exporter": "python",
   "pygments_lexer": "ipython3",
   "version": "3.12.0"
  },
  "papermill": {
   "default_parameters": {},
   "duration": 3.64089,
   "end_time": "2024-04-10T10:54:35.002237",
   "environment_variables": {},
   "exception": null,
   "input_path": "/Users/sota/Dropbox/2 Business/2 Areas/datons.academy/2 Areas/Products/Digital Courses/DAV/course-maven/solutions/notebooks/60_APIs/62_Credentials/B.ipynb",
   "output_path": "/Users/sota/Dropbox/2 Business/2 Areas/datons.academy/2 Areas/Products/Digital Courses/DAV/course-maven/solutions/notebooks/60_APIs/62_Credentials/B.ipynb",
   "parameters": {},
   "start_time": "2024-04-10T10:54:31.361347",
   "version": "2.5.0"
  }
 },
 "nbformat": 4,
 "nbformat_minor": 5
}
