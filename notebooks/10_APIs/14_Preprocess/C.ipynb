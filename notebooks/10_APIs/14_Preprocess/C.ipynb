{
 "cells": [
  {
   "attachments": {},
   "cell_type": "markdown",
   "id": "a09252ef",
   "metadata": {
    "papermill": {
     "duration": 0.002969,
     "end_time": "2024-04-10T10:57:22.035341",
     "exception": false,
     "start_time": "2024-04-10T10:57:22.032372",
     "status": "completed"
    },
    "tags": []
   },
   "source": [
    "# Preprocess response data from API"
   ]
  },
  {
   "attachments": {},
   "cell_type": "markdown",
   "id": "00ce88ce",
   "metadata": {
    "papermill": {
     "duration": 0.003715,
     "end_time": "2024-04-10T10:57:22.043301",
     "exception": false,
     "start_time": "2024-04-10T10:57:22.039586",
     "status": "completed"
    },
    "tags": []
   },
   "source": [
    "## Request API data"
   ]
  },
  {
   "cell_type": "code",
   "execution_count": null,
   "id": "63c704b8",
   "metadata": {
    "execution": {
     "iopub.execute_input": "2024-04-10T10:57:22.052702Z",
     "iopub.status.busy": "2024-04-10T10:57:22.052287Z",
     "iopub.status.idle": "2024-04-10T10:57:23.093364Z",
     "shell.execute_reply": "2024-04-10T10:57:23.091972Z"
    },
    "papermill": {
     "duration": 1.050823,
     "end_time": "2024-04-10T10:57:23.097191",
     "exception": false,
     "start_time": "2024-04-10T10:57:22.046368",
     "status": "completed"
    },
    "tags": [
     "change-false"
    ]
   },
   "outputs": [],
   "source": []
  },
  {
   "attachments": {},
   "cell_type": "markdown",
   "id": "7af91c66",
   "metadata": {
    "papermill": {
     "duration": 0.009327,
     "end_time": "2024-04-10T10:57:23.115383",
     "exception": false,
     "start_time": "2024-04-10T10:57:23.106056",
     "status": "completed"
    },
    "tags": []
   },
   "source": [
    "## Convert JSON to DataFrame\n",
    "\n",
    "Make sure to convert a repeated JSON structure to a DataFrame."
   ]
  },
  {
   "cell_type": "code",
   "execution_count": null,
   "id": "e4bdb9b4",
   "metadata": {
    "execution": {
     "iopub.execute_input": "2024-04-10T10:57:23.133168Z",
     "iopub.status.busy": "2024-04-10T10:57:23.132808Z",
     "iopub.status.idle": "2024-04-10T10:57:23.784669Z",
     "shell.execute_reply": "2024-04-10T10:57:23.784104Z"
    },
    "papermill": {
     "duration": 0.663498,
     "end_time": "2024-04-10T10:57:23.786284",
     "exception": false,
     "start_time": "2024-04-10T10:57:23.122786",
     "status": "completed"
    },
    "tags": []
   },
   "outputs": [],
   "source": []
  },
  {
   "cell_type": "code",
   "execution_count": null,
   "id": "73b6120b",
   "metadata": {
    "execution": {
     "iopub.execute_input": "2024-04-10T10:57:23.799635Z",
     "iopub.status.busy": "2024-04-10T10:57:23.799281Z",
     "iopub.status.idle": "2024-04-10T10:57:23.932587Z",
     "shell.execute_reply": "2024-04-10T10:57:23.931764Z"
    },
    "papermill": {
     "duration": 0.142307,
     "end_time": "2024-04-10T10:57:23.934753",
     "exception": false,
     "start_time": "2024-04-10T10:57:23.792446",
     "status": "completed"
    },
    "tags": []
   },
   "outputs": [],
   "source": []
  },
  {
   "attachments": {},
   "cell_type": "markdown",
   "id": "b2fa19f2",
   "metadata": {
    "papermill": {
     "duration": 0.006778,
     "end_time": "2024-04-10T10:57:23.948089",
     "exception": false,
     "start_time": "2024-04-10T10:57:23.941311",
     "status": "completed"
    },
    "tags": []
   },
   "source": [
    "## Preprocess data\n",
    "\n",
    "- Format columns\n",
    "- Adjust DataFrame\n",
    "- Convert data types\n",
    "- ..."
   ]
  },
  {
   "cell_type": "code",
   "execution_count": null,
   "id": "0e466e52",
   "metadata": {
    "execution": {
     "iopub.execute_input": "2024-04-10T10:57:23.961224Z",
     "iopub.status.busy": "2024-04-10T10:57:23.960816Z",
     "iopub.status.idle": "2024-04-10T10:57:23.974971Z",
     "shell.execute_reply": "2024-04-10T10:57:23.974254Z"
    },
    "papermill": {
     "duration": 0.022741,
     "end_time": "2024-04-10T10:57:23.976655",
     "exception": false,
     "start_time": "2024-04-10T10:57:23.953914",
     "status": "completed"
    },
    "tags": []
   },
   "outputs": [],
   "source": []
  },
  {
   "attachments": {},
   "cell_type": "markdown",
   "id": "435ee96a",
   "metadata": {
    "papermill": {
     "duration": 0.005206,
     "end_time": "2024-04-10T10:57:23.987228",
     "exception": false,
     "start_time": "2024-04-10T10:57:23.982022",
     "status": "completed"
    },
    "tags": []
   },
   "source": [
    "## Export to Excel"
   ]
  },
  {
   "cell_type": "code",
   "execution_count": null,
   "id": "029a4824",
   "metadata": {
    "execution": {
     "iopub.execute_input": "2024-04-10T10:57:23.999232Z",
     "iopub.status.busy": "2024-04-10T10:57:23.998955Z",
     "iopub.status.idle": "2024-04-10T10:57:24.981273Z",
     "shell.execute_reply": "2024-04-10T10:57:24.980516Z"
    },
    "papermill": {
     "duration": 0.990106,
     "end_time": "2024-04-10T10:57:24.983033",
     "exception": false,
     "start_time": "2024-04-10T10:57:23.992927",
     "status": "completed"
    },
    "tags": []
   },
   "outputs": [],
   "source": []
  }
 ],
 "metadata": {
  "kernelspec": {
   "display_name": "work",
   "language": "python",
   "name": "python3"
  },
  "language_info": {
   "codemirror_mode": {
    "name": "ipython",
    "version": 3
   },
   "file_extension": ".py",
   "mimetype": "text/x-python",
   "name": "python",
   "nbconvert_exporter": "python",
   "pygments_lexer": "ipython3",
   "version": "3.12.0"
  },
  "papermill": {
   "default_parameters": {},
   "duration": 4.828812,
   "end_time": "2024-04-10T10:57:25.313318",
   "environment_variables": {},
   "exception": null,
   "input_path": "/Users/sota/Dropbox/2 Business/2 Areas/datons.academy/2 Areas/Products/Digital Courses/DAV/course-maven/solutions/notebooks/60_APIs/63_Preprocess & Export Response/B.ipynb",
   "output_path": "/Users/sota/Dropbox/2 Business/2 Areas/datons.academy/2 Areas/Products/Digital Courses/DAV/course-maven/solutions/notebooks/60_APIs/63_Preprocess & Export Response/B.ipynb",
   "parameters": {},
   "start_time": "2024-04-10T10:57:20.484506",
   "version": "2.5.0"
  }
 },
 "nbformat": 4,
 "nbformat_minor": 5
}
