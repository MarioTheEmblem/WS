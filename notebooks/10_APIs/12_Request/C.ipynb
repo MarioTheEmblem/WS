{
 "cells": [
  {
   "attachments": {},
   "cell_type": "markdown",
   "id": "b8b6990e",
   "metadata": {
    "papermill": {
     "duration": 0.003397,
     "end_time": "2024-04-10T10:54:25.226173",
     "exception": false,
     "start_time": "2024-04-10T10:54:25.222776",
     "status": "completed"
    },
    "tags": []
   },
   "source": [
    "# Request and preprocess API data response"
   ]
  },
  {
   "attachments": {},
   "cell_type": "markdown",
   "id": "6ab951ae",
   "metadata": {
    "papermill": {
     "duration": 0.003206,
     "end_time": "2024-04-10T10:54:25.232969",
     "exception": false,
     "start_time": "2024-04-10T10:54:25.229763",
     "status": "completed"
    },
    "tags": []
   },
   "source": [
    "## Raw API call"
   ]
  },
  {
   "attachments": {},
   "cell_type": "markdown",
   "id": "3557d84b",
   "metadata": {
    "papermill": {
     "duration": 0.003822,
     "end_time": "2024-04-10T10:54:25.240715",
     "exception": false,
     "start_time": "2024-04-10T10:54:25.236893",
     "status": "completed"
    },
    "tags": []
   },
   "source": [
    "### Compose URL"
   ]
  },
  {
   "cell_type": "code",
   "execution_count": null,
   "id": "3cd75627",
   "metadata": {
    "execution": {
     "iopub.execute_input": "2024-04-10T10:54:25.253497Z",
     "iopub.status.busy": "2024-04-10T10:54:25.253211Z",
     "iopub.status.idle": "2024-04-10T10:54:25.257745Z",
     "shell.execute_reply": "2024-04-10T10:54:25.257113Z"
    },
    "papermill": {
     "duration": 0.009884,
     "end_time": "2024-04-10T10:54:25.259361",
     "exception": false,
     "start_time": "2024-04-10T10:54:25.249477",
     "status": "completed"
    },
    "tags": []
   },
   "outputs": [],
   "source": []
  },
  {
   "attachments": {},
   "cell_type": "markdown",
   "id": "f197e94c",
   "metadata": {
    "papermill": {
     "duration": 0.003949,
     "end_time": "2024-04-10T10:54:25.266467",
     "exception": false,
     "start_time": "2024-04-10T10:54:25.262518",
     "status": "completed"
    },
    "tags": []
   },
   "source": [
    "### Get URL data form API"
   ]
  },
  {
   "cell_type": "code",
   "execution_count": null,
   "id": "b348372c",
   "metadata": {
    "execution": {
     "iopub.execute_input": "2024-04-10T10:54:25.274813Z",
     "iopub.status.busy": "2024-04-10T10:54:25.274500Z",
     "iopub.status.idle": "2024-04-10T10:54:26.397591Z",
     "shell.execute_reply": "2024-04-10T10:54:26.397022Z"
    },
    "papermill": {
     "duration": 1.129707,
     "end_time": "2024-04-10T10:54:26.399248",
     "exception": false,
     "start_time": "2024-04-10T10:54:25.269541",
     "status": "completed"
    },
    "tags": []
   },
   "outputs": [],
   "source": []
  },
  {
   "attachments": {},
   "cell_type": "markdown",
   "id": "e38dbbd0",
   "metadata": {
    "papermill": {
     "duration": 0.003838,
     "end_time": "2024-04-10T10:54:26.414442",
     "exception": false,
     "start_time": "2024-04-10T10:54:26.410604",
     "status": "completed"
    },
    "tags": []
   },
   "source": [
    "### Convert response to JSON"
   ]
  },
  {
   "cell_type": "code",
   "execution_count": null,
   "id": "4919a4df",
   "metadata": {
    "execution": {
     "iopub.execute_input": "2024-04-10T10:54:26.422997Z",
     "iopub.status.busy": "2024-04-10T10:54:26.422618Z",
     "iopub.status.idle": "2024-04-10T10:54:26.532540Z",
     "shell.execute_reply": "2024-04-10T10:54:26.531851Z"
    },
    "papermill": {
     "duration": 0.117145,
     "end_time": "2024-04-10T10:54:26.535404",
     "exception": false,
     "start_time": "2024-04-10T10:54:26.418259",
     "status": "completed"
    },
    "tags": []
   },
   "outputs": [],
   "source": []
  },
  {
   "attachments": {},
   "cell_type": "markdown",
   "id": "45689a3d",
   "metadata": {
    "papermill": {
     "duration": 0.024638,
     "end_time": "2024-04-10T10:54:26.572962",
     "exception": false,
     "start_time": "2024-04-10T10:54:26.548324",
     "status": "completed"
    },
    "tags": []
   },
   "source": [
    "## Parametrized API call"
   ]
  },
  {
   "attachments": {},
   "cell_type": "markdown",
   "id": "1316fe58",
   "metadata": {
    "papermill": {
     "duration": 0.005979,
     "end_time": "2024-04-10T10:54:26.584688",
     "exception": false,
     "start_time": "2024-04-10T10:54:26.578709",
     "status": "completed"
    },
    "tags": []
   },
   "source": [
    "#### Define URL parameters"
   ]
  },
  {
   "cell_type": "code",
   "execution_count": null,
   "id": "669634ce",
   "metadata": {
    "execution": {
     "iopub.execute_input": "2024-04-10T10:54:26.597950Z",
     "iopub.status.busy": "2024-04-10T10:54:26.597697Z",
     "iopub.status.idle": "2024-04-10T10:54:26.600978Z",
     "shell.execute_reply": "2024-04-10T10:54:26.600304Z"
    },
    "papermill": {
     "duration": 0.011975,
     "end_time": "2024-04-10T10:54:26.603074",
     "exception": false,
     "start_time": "2024-04-10T10:54:26.591099",
     "status": "completed"
    },
    "tags": [
     "change-false"
    ]
   },
   "outputs": [],
   "source": []
  },
  {
   "cell_type": "code",
   "execution_count": null,
   "id": "e535c5ea",
   "metadata": {
    "execution": {
     "iopub.execute_input": "2024-04-10T10:54:26.639156Z",
     "iopub.status.busy": "2024-04-10T10:54:26.638799Z",
     "iopub.status.idle": "2024-04-10T10:54:26.642963Z",
     "shell.execute_reply": "2024-04-10T10:54:26.642277Z"
    },
    "papermill": {
     "duration": 0.035965,
     "end_time": "2024-04-10T10:54:26.644809",
     "exception": false,
     "start_time": "2024-04-10T10:54:26.608844",
     "status": "completed"
    },
    "tags": []
   },
   "outputs": [],
   "source": []
  },
  {
   "attachments": {},
   "cell_type": "markdown",
   "id": "0f0b68c2",
   "metadata": {
    "papermill": {
     "duration": 0.024402,
     "end_time": "2024-04-10T10:54:26.689781",
     "exception": false,
     "start_time": "2024-04-10T10:54:26.665379",
     "status": "completed"
    },
    "tags": []
   },
   "source": [
    "#### Define URL base"
   ]
  },
  {
   "cell_type": "code",
   "execution_count": null,
   "id": "39497f1d",
   "metadata": {
    "execution": {
     "iopub.execute_input": "2024-04-10T10:54:26.741469Z",
     "iopub.status.busy": "2024-04-10T10:54:26.741162Z",
     "iopub.status.idle": "2024-04-10T10:54:26.744784Z",
     "shell.execute_reply": "2024-04-10T10:54:26.743979Z"
    },
    "papermill": {
     "duration": 0.032871,
     "end_time": "2024-04-10T10:54:26.746764",
     "exception": false,
     "start_time": "2024-04-10T10:54:26.713893",
     "status": "completed"
    },
    "tags": []
   },
   "outputs": [],
   "source": []
  },
  {
   "attachments": {},
   "cell_type": "markdown",
   "id": "8e2b13d5",
   "metadata": {
    "papermill": {
     "duration": 0.025181,
     "end_time": "2024-04-10T10:54:26.790764",
     "exception": false,
     "start_time": "2024-04-10T10:54:26.765583",
     "status": "completed"
    },
    "tags": []
   },
   "source": [
    "#### Get URL data form API"
   ]
  },
  {
   "cell_type": "code",
   "execution_count": null,
   "id": "4f717e73",
   "metadata": {
    "execution": {
     "iopub.execute_input": "2024-04-10T10:54:26.842015Z",
     "iopub.status.busy": "2024-04-10T10:54:26.841754Z",
     "iopub.status.idle": "2024-04-10T10:54:27.901386Z",
     "shell.execute_reply": "2024-04-10T10:54:27.900856Z"
    },
    "papermill": {
     "duration": 1.090068,
     "end_time": "2024-04-10T10:54:27.904868",
     "exception": false,
     "start_time": "2024-04-10T10:54:26.814800",
     "status": "completed"
    },
    "tags": []
   },
   "outputs": [],
   "source": []
  }
 ],
 "metadata": {
  "kernelspec": {
   "display_name": "datons.stories",
   "language": "python",
   "name": "python3"
  },
  "language_info": {
   "codemirror_mode": {
    "name": "ipython",
    "version": 3
   },
   "file_extension": ".py",
   "mimetype": "text/x-python",
   "name": "python",
   "nbconvert_exporter": "python",
   "pygments_lexer": "ipython3",
   "version": "3.12.0"
  },
  "papermill": {
   "default_parameters": {},
   "duration": 3.871182,
   "end_time": "2024-04-10T10:54:28.133941",
   "environment_variables": {},
   "exception": null,
   "input_path": "/Users/sota/Dropbox/2 Business/2 Areas/datons.academy/2 Areas/Products/Digital Courses/DAV/course-maven/solutions/notebooks/60_APIs/61_Request Data/B.ipynb",
   "output_path": "/Users/sota/Dropbox/2 Business/2 Areas/datons.academy/2 Areas/Products/Digital Courses/DAV/course-maven/solutions/notebooks/60_APIs/61_Request Data/B.ipynb",
   "parameters": {},
   "start_time": "2024-04-10T10:54:24.262759",
   "version": "2.5.0"
  }
 },
 "nbformat": 4,
 "nbformat_minor": 5
}
